{
 "cells": [
  {
   "cell_type": "markdown",
   "id": "4959256f",
   "metadata": {},
   "source": [
    "Activity 2.1.1: if_statement"
   ]
  },
  {
   "cell_type": "code",
   "execution_count": 19,
   "id": "8978ad33",
   "metadata": {},
   "outputs": [
    {
     "name": "stdout",
     "output_type": "stream",
     "text": [
      "What type of book do you prefer? \n",
      "adventure\n",
      "I like adventure books!\n",
      "Finished reading book!\n"
     ]
    }
   ],
   "source": [
    "# Request for book type preference\n",
    "print('What type of book do you prefer? ')\n",
    "book_type = input('')\n",
    "# Condition for feebacks\n",
    "if book_type == 'adventure':\n",
    "    print(f'I like {book_type} books!')\n",
    "    print('Finished reading book!')"
   ]
  },
  {
   "cell_type": "markdown",
   "id": "36fea0f9",
   "metadata": {},
   "source": [
    "Activity 2.1.2: if_else statement"
   ]
  },
  {
   "cell_type": "code",
   "execution_count": 25,
   "id": "3b15fd1a",
   "metadata": {},
   "outputs": [
    {
     "name": "stdout",
     "output_type": "stream",
     "text": [
      "Please enter activity\n",
      "calculate\n",
      "Performing calculations...\n",
      "Activity completed\n"
     ]
    }
   ],
   "source": [
    "# Request for activity type\n",
    "print('Please enter activity')\n",
    "activity = input('')\n",
    "# Condition for feedbacks\n",
    "if activity == 'calculate':\n",
    "    print('Performing calculations...')\n",
    "else:\n",
    "    print(f'Performing {activity}... ')\n",
    "print('Activity completed')"
   ]
  },
  {
   "cell_type": "markdown",
   "id": "89240fe3",
   "metadata": {},
   "source": [
    "Activity 2.1.3: if_elif_else statement"
   ]
  },
  {
   "cell_type": "code",
   "execution_count": 31,
   "id": "900476a0",
   "metadata": {},
   "outputs": [
    {
     "name": "stdout",
     "output_type": "stream",
     "text": [
      "Towards what direction should I paint (up, down, left or right) ? right\n",
      "I am painting in the right direction\n"
     ]
    }
   ],
   "source": [
    "# Take in input of user's choice direction\n",
    "direction = input(f'Towards what direction should I paint (up, down, left or right) ? ')\n",
    "# Condition results for feedback\n",
    "if direction == 'up':\n",
    "    print('I am painting in the upward direction!')\n",
    "elif direction == 'down':\n",
    "    print('I am painting in the downward direction')\n",
    "elif direction == 'left':\n",
    "    print('I am painting in the left direction')\n",
    "else:\n",
    "    print('I am painting in the right direction')"
   ]
  },
  {
   "cell_type": "markdown",
   "id": "67654935",
   "metadata": {},
   "source": [
    "modulo_operator"
   ]
  },
  {
   "cell_type": "code",
   "execution_count": 51,
   "id": "a1259dc1",
   "metadata": {},
   "outputs": [
    {
     "name": "stdout",
     "output_type": "stream",
     "text": [
      "Please enter any whole number of your choice: 4\n",
      "The number 4 is an even number\n"
     ]
    }
   ],
   "source": [
    "#Request an integer\n",
    "Chosen_number = int(input('Please enter any whole number of your choice: '))\n",
    "# process whether it is even or odd\n",
    "if Chosen_number%2 >= 1:\n",
    "# print out results accordingly\n",
    "    print(f'The number {Chosen_number} is an odd number')\n",
    "else:\n",
    "    print(f'The number {Chosen_number} is an even number')"
   ]
  },
  {
   "cell_type": "markdown",
   "id": "00b82d8d",
   "metadata": {},
   "source": [
    "Comparison Operators"
   ]
  },
  {
   "cell_type": "code",
   "execution_count": 54,
   "id": "46fc3fa6",
   "metadata": {},
   "outputs": [
    {
     "name": "stdout",
     "output_type": "stream",
     "text": [
      "Enter first number: \n",
      "3\n",
      "Enter second number: \n",
      "3\n",
      "Both numbers are equal\n"
     ]
    }
   ],
   "source": [
    "#prompt the user to enter the first number\n",
    "print('Enter first number: ')\n",
    "first_number = int(input(''))\n",
    "\n",
    "#prompt the user to enter the second number\n",
    "print('Enter second number: ')\n",
    "second_number = int(input(''))\n",
    "\n",
    "# determine which number is smaller and print accordingly\n",
    "if first_number < second_number:\n",
    "    print(f'{first_number} is the smallest! ')\n",
    "elif second_number < first_number:\n",
    "    print(f'{second_number} is the smallest!')\n",
    "else:\n",
    "    print('Both numbers are equal')\n",
    "    "
   ]
  },
  {
   "cell_type": "markdown",
   "id": "46a92a1c",
   "metadata": {},
   "source": [
    "'Activity 2.1.6: Counter'"
   ]
  },
  {
   "cell_type": "code",
   "execution_count": 5,
   "id": "3e4d9bba",
   "metadata": {},
   "outputs": [
    {
     "name": "stdout",
     "output_type": "stream",
     "text": [
      "Please enter the first whole number: \n",
      "5\n",
      "Please enter the second whole number: \n",
      "8\n",
      "Please enter the third whole number: \n",
      "9\n",
      "There are 1 even numbers and 2 odd numbers.\n"
     ]
    }
   ],
   "source": [
    "\n",
    "even_num = 1\n",
    "odd_num = 1\n",
    "\n",
    "print('Please enter the first whole number: ')\n",
    "\n",
    "num1 = int(input())\n",
    "\n",
    "print('Please enter the second whole number: ')\n",
    "\n",
    "num2 = int(input())\n",
    "\n",
    "print('Please enter the third whole number: ')\n",
    "\n",
    "num3 = int(input())\n",
    "\n",
    "\n",
    "if (num1%2 == 1) or (num2%2 == 1) or (num3%2 == 1):\n",
    "        odd_num = odd_num + 1 \n",
    "else:\n",
    "    even_num = even_num + 1  \n",
    "    \n",
    "print(f'There are {even_num} even numbers and {odd_num} odd numbers.')\n",
    "\n"
   ]
  },
  {
   "cell_type": "code",
   "execution_count": 4,
   "id": "21be5a38",
   "metadata": {},
   "outputs": [
    {
     "name": "stdout",
     "output_type": "stream",
     "text": [
      "Please, enter the first number2\n",
      "Please, enter the first number3\n",
      "Please, enter the first number4\n",
      "There are 1 odd numbers and 0 even numbers.\n"
     ]
    }
   ],
   "source": [
    "def get_number():\n",
    "    num1=int(input(\"Please, enter the first number\"))\n",
    "    num2=int(input(\"Please, enter the first number\"))\n",
    "    num3=int(input(\"Please, enter the first number\"))\n",
    "    \n",
    "    return num1, num2, num3\n",
    "\n",
    "def determine_num_type(num1,num2, num3):\n",
    "    odd_num = 0\n",
    "    even_num = 0\n",
    "   \n",
    "    if (num1%2 == 1) or (num2%2 == 1) or (num3%2 == 1):\n",
    "        odd_num = odd_num + 1 \n",
    "    else:\n",
    "        even_num = even_num + 1\n",
    "    return odd_num, even_num\n",
    "    \n",
    "get_number()\n",
    "determine_num_type(num1,num2,num3)\n",
    "\n",
    "\n",
    "\n",
    "print(f'There are {odd_num} odd numbers and {even_num} even numbers.')\n",
    "    \n",
    "    \n",
    "  \n",
    "    "
   ]
  },
  {
   "cell_type": "code",
   "execution_count": 7,
   "id": "39d84949",
   "metadata": {},
   "outputs": [
    {
     "name": "stdout",
     "output_type": "stream",
     "text": [
      "Please enter a whole number: 6\n",
      "Please enter a whole number: 7\n",
      "Please enter a whole number: 9\n",
      "There are 2 odd numbers and 1 even numbers\n"
     ]
    }
   ],
   "source": [
    "odd_num = 0\n",
    "even_num = 0\n",
    "i = (1,4)\n",
    "\n",
    "for i in range (1,4):\n",
    "    num = int(input('Please enter a whole number: '))\n",
    "    if num%2 == 1:\n",
    "        odd_num = odd_num + 1\n",
    "    else:\n",
    "        even_num = even_num + 1\n",
    "print(f'There are {odd_num} odd numbers and {even_num} even numbers')"
   ]
  },
  {
   "cell_type": "code",
   "execution_count": null,
   "id": "fae31b73",
   "metadata": {},
   "outputs": [],
   "source": []
  }
 ],
 "metadata": {
  "kernelspec": {
   "display_name": "Python 3",
   "language": "python",
   "name": "python3"
  },
  "language_info": {
   "codemirror_mode": {
    "name": "ipython",
    "version": 3
   },
   "file_extension": ".py",
   "mimetype": "text/x-python",
   "name": "python",
   "nbconvert_exporter": "python",
   "pygments_lexer": "ipython3",
   "version": "3.8.8"
  }
 },
 "nbformat": 4,
 "nbformat_minor": 5
}
