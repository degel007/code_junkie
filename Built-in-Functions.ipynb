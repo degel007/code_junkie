{
 "cells": [
  {
   "cell_type": "markdown",
   "id": "c93bb6ae",
   "metadata": {},
   "source": [
    "Activity 2.1.1: ascii_code"
   ]
  },
  {
   "cell_type": "code",
   "execution_count": 8,
   "id": "24fc0311",
   "metadata": {},
   "outputs": [
    {
     "name": "stdout",
     "output_type": "stream",
     "text": [
      "Program Started! \n",
      "Please enter a standard character: r\n",
      "The ASCII code for r is 114\n",
      "Program Ended! \n"
     ]
    }
   ],
   "source": [
    "#The program should start by displaying the message \"Program Started!\".\n",
    "\n",
    "print('Program Started! ')\n",
    "#The program should start by displaying the message \"Please enter a standard character:\"\n",
    "\n",
    "stand_char = input(str('Please enter a standard character: '))\n",
    "#The program should then read in the user's response which should be a single character.\n",
    "#The program should then check that a single letter has been entered using the built-in function len() .\n",
    "\n",
    "char_num = len(stand_char)\n",
    "#If the length is 1 then the program should determine the ASCII code of the character using \n",
    "#the built-in function ord() display the message \"The ASCII code for {letter} is {value}.\"\n",
    "#where {letter} is the letter entered by the user and {value} is the ASCII code as a number.\n",
    "#Otherwise, if the length is not 1 then the program should display a suitable error message\n",
    "#Finally, the program should display the message \"Program Ended!\".\n",
    "if char_num == 1:\n",
    "    value = ord(stand_char)\n",
    "    print(f'The ASCII code for {stand_char} is {value}')\n",
    "    print('Program Ended! ')\n",
    "else:\n",
    "    print('Enter only one character: ')\n",
    "    \n"
   ]
  },
  {
   "cell_type": "markdown",
   "id": "0f6bc3d2",
   "metadata": {},
   "source": [
    "Activity 2.1.2: ascii_character"
   ]
  },
  {
   "cell_type": "code",
   "execution_count": 20,
   "id": "4ee015a5",
   "metadata": {},
   "outputs": [
    {
     "name": "stdout",
     "output_type": "stream",
     "text": [
      "Program Started! \n",
      "Please enter ASCII: 120\n",
      "The character represented by 120 is x\n"
     ]
    }
   ],
   "source": [
    "#The program should start by displaying the message \"Program Started!\".\n",
    "#The program should start by displaying the message \"Please enter an ASCII code:\".\n",
    "#The program should then read in the user's response which should be a positive integer.  You can can use the built-in functions abs() and int() to convert the input appropriately.\n",
    "#The program should then check that the number is in the range 32 - 126 (inclusive) i.e. the printable characters.  You can use the keyword in and the built-in function range to help you with this or you can use multiple conditions to check the input is in the printable range.\n",
    "#If the number in within the range then the program should determine the ASCII character from the number using the built-in function chr() . Then, display the message \"The character represented by the ASCII code {code} is {character}.\" where {code} is the number entered by the user and {character} is the ASCII character represented by the number.\n",
    "#Otherwise, if the number is within the range then the program should display a suitable error message.\n",
    "#Finally, the program should display the message \"Program Ended!\".\n",
    "\n",
    "print('Program Started! ')\n",
    "ASCCI_Code = abs(int(input('Please enter ASCII: ')))\n",
    "\n",
    "if ASCCI_Code in range(31,126):\n",
    "    ASCCI_Char = chr(ASCCI_Code)\n",
    "    print(f'The character represented by {ASCCI_Code} is {ASCCI_Char}' )\n",
    "else: \n",
    "    print ('Code enterted not within range. Please try again: ')\n",
    "    \n",
    "    \n"
   ]
  },
  {
   "cell_type": "code",
   "execution_count": null,
   "id": "3323d1a1",
   "metadata": {},
   "outputs": [],
   "source": []
  }
 ],
 "metadata": {
  "kernelspec": {
   "display_name": "Python 3",
   "language": "python",
   "name": "python3"
  },
  "language_info": {
   "codemirror_mode": {
    "name": "ipython",
    "version": 3
   },
   "file_extension": ".py",
   "mimetype": "text/x-python",
   "name": "python",
   "nbconvert_exporter": "python",
   "pygments_lexer": "ipython3",
   "version": "3.8.8"
  }
 },
 "nbformat": 4,
 "nbformat_minor": 5
}
