{
 "cells": [
  {
   "cell_type": "markdown",
   "id": "2b2ea63f",
   "metadata": {},
   "source": [
    "Activity 2.2.1: nested_loop"
   ]
  },
  {
   "cell_type": "code",
   "execution_count": 17,
   "id": "cb79169f",
   "metadata": {},
   "outputs": [
    {
     "ename": "SyntaxError",
     "evalue": "invalid syntax (<ipython-input-17-06cfd6929c6a>, line 6)",
     "output_type": "error",
     "traceback": [
      "\u001b[1;36m  File \u001b[1;32m\"<ipython-input-17-06cfd6929c6a>\"\u001b[1;36m, line \u001b[1;32m6\u001b[0m\n\u001b[1;33m    print(j*(chr(1F925))\u001b[0m\n\u001b[1;37m                  ^\u001b[0m\n\u001b[1;31mSyntaxError\u001b[0m\u001b[1;31m:\u001b[0m invalid syntax\n"
     ]
    }
   ],
   "source": [
    "rows = int(input('How many rows would you like?: '))\n",
    "columns = int(input('How many columns would you like?: '))\n",
    "i = (rows)\n",
    "j= (columns)\n",
    "for i in range (rows):\n",
    "    print(j*(chr(1F925))\n",
    "             \n",
    "    \n",
    "        \n",
    "           "
   ]
  },
  {
   "cell_type": "code",
   "execution_count": null,
   "id": "8640f681",
   "metadata": {},
   "outputs": [],
   "source": []
  }
 ],
 "metadata": {
  "kernelspec": {
   "display_name": "Python 3",
   "language": "python",
   "name": "python3"
  },
  "language_info": {
   "codemirror_mode": {
    "name": "ipython",
    "version": 3
   },
   "file_extension": ".py",
   "mimetype": "text/x-python",
   "name": "python",
   "nbconvert_exporter": "python",
   "pygments_lexer": "ipython3",
   "version": "3.8.8"
  }
 },
 "nbformat": 4,
 "nbformat_minor": 5
}
